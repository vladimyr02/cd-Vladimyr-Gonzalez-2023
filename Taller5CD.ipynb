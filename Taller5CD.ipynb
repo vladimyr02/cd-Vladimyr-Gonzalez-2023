{
  "nbformat": 4,
  "nbformat_minor": 0,
  "metadata": {
    "colab": {
      "provenance": [],
      "authorship_tag": "ABX9TyNMdoJ0Y0XG3AA0dqsqDh2+",
      "include_colab_link": true
    },
    "kernelspec": {
      "name": "python3",
      "display_name": "Python 3"
    },
    "language_info": {
      "name": "python"
    }
  },
  "cells": [
    {
      "cell_type": "markdown",
      "metadata": {
        "id": "view-in-github",
        "colab_type": "text"
      },
      "source": [
        "<a href=\"https://colab.research.google.com/github/vladimyr02/cd-Vladimyr-Gonzalez-2023/blob/main/Taller5CD.ipynb\" target=\"_parent\"><img src=\"https://colab.research.google.com/assets/colab-badge.svg\" alt=\"Open In Colab\"/></a>"
      ]
    },
    {
      "cell_type": "code",
      "source": [
        "import numpy as np\n",
        "\n",
        "# Número de puntos a generar\n",
        "n_puntos = 1000000\n",
        "p_lado = int(n_puntos**0.5)\n",
        "separacion = 1 / (p_lado - 1)\n",
        "\n",
        "# Inicializar el contador\n",
        "contador = 0\n",
        "\n",
        "# Generar puntos en el rango [0, 1) x [0, 1)\n",
        "for i in range(p_lado):\n",
        "    for j in range(p_lado):\n",
        "        x = i * separacion\n",
        "        y = j * separacion\n",
        "        distancia = np.sqrt(x**2 + y**2)\n",
        "        if distancia <= 1:\n",
        "            contador += 1\n",
        "\n",
        "# Imprimir el resultado\n",
        "print(f\"Total de puntos dentro de una distancia de 1 o menos: {contador}\")\n",
        "print(f\"Valor final: {4*(contador/n_puntos)}\")\n"
      ],
      "metadata": {
        "colab": {
          "base_uri": "https://localhost:8080/"
        },
        "id": "uEqDl0HDSYwI",
        "outputId": "0ae7a334-acaa-4692-d1ba-a2b4d98d5253"
      },
      "execution_count": 7,
      "outputs": [
        {
          "output_type": "stream",
          "name": "stdout",
          "text": [
            "Total de puntos dentro de una distancia de 1 o menos: 784789\n",
            "Valor final: 3.139156\n"
          ]
        }
      ]
    },
    {
      "cell_type": "code",
      "source": [
        "# Número de puntos a generar\n",
        "n_puntos = 1000000\n",
        "\n",
        "# Inicializar el contador\n",
        "contador = 0\n",
        "\n",
        "# Tamaño de paso\n",
        "paso = 1/999\n",
        "\n",
        "# Generar puntos con un tamaño de paso de 1/999 y contar los puntos dentro del círculo\n",
        "for i in range(1000):\n",
        "    x = i * paso\n",
        "    for j in range(1000):\n",
        "        y = j * paso\n",
        "        distancia = x**2 + y**2 # Distancia al cuadrado desde el origen (0,0)\n",
        "        if distancia <= 1:\n",
        "            contador += 1\n",
        "\n",
        "# Estimar el área del círculo y del cuadrado\n",
        "area_circulo = contador / (1000 * 1000)\n",
        "area_cuadrado = 1\n",
        "\n",
        "# Estimar el valor de pi\n",
        "estimacion_pi = 4 * area_circulo\n",
        "\n",
        "# Imprimir el resultado\n",
        "print(f\"Estimación de pi usando el método de Montecarlo con tamaño de paso de 1/999: {estimacion_pi}\")"
      ],
      "metadata": {
        "colab": {
          "base_uri": "https://localhost:8080/"
        },
        "id": "mw9fNlrESiA4",
        "outputId": "5c727199-cd5d-4598-e160-f4c18de338e0"
      },
      "execution_count": 10,
      "outputs": [
        {
          "output_type": "stream",
          "name": "stdout",
          "text": [
            "Estimación de pi usando el método de Montecarlo con tamaño de paso de 1/999: 3.139156\n"
          ]
        }
      ]
    }
  ]
}